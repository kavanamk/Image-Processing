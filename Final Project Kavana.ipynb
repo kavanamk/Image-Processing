{
 "cells": [
  {
   "cell_type": "markdown",
   "id": "29adc459-989b-47a1-9038-a29ffabde7ab",
   "metadata": {},
   "source": [
    "# Furniture Image Extraction and Background Replacement for E-commerce"
   ]
  },
  {
   "cell_type": "markdown",
   "id": "66a6cc44-959f-4420-abf1-9dc541d67f1d",
   "metadata": {},
   "source": [
    "## 1. Image Preprocessing"
   ]
  },
  {
   "cell_type": "code",
   "execution_count": null,
   "id": "13bdf5c9-35e1-4858-ae90-9e24a420d598",
   "metadata": {},
   "outputs": [],
   "source": [
    "import cv2\n",
    "import numpy as np\n",
    "\n",
    "def preprocess_image(image_path):\n",
    "    # Load the image\n",
    "    image = cv2.imread(image_path)\n",
    "    \n",
    "    # Convert BGR to RGB\n",
    "    image_rgb = cv2.cvtColor(image, cv2.COLOR_BGR2RGB)\n",
    "    \n",
    "    # Convert to HSV color space\n",
    "    image_hsv = cv2.cvtColor(image_rgb, cv2.COLOR_RGB2HSV)\n",
    "    \n",
    "    # Convert to Lab color space\n",
    "    image_lab = cv2.cvtColor(image_rgb, cv2.COLOR_RGB2Lab)\n",
    "    \n",
    "    # Apply Gaussian Blur for noise reduction\n",
    "    gaussian_blur = cv2.GaussianBlur(image_rgb, (5, 5), 0)\n",
    "    \n",
    "    # Apply Median Blur for further noise smoothing\n",
    "    median_blur = cv2.medianBlur(gaussian_blur, 5)\n",
    "\n",
    "    return image_rgb, image_hsv, image_lab, median_blur"
   ]
  },
  {
   "cell_type": "code",
   "execution_count": null,
   "id": "a569eb14-b07c-4824-a228-4200773fea3e",
   "metadata": {},
   "outputs": [],
   "source": [
    "# Example usage\n",
    "image_path = \"furniture.jpg\"  # Replace with your image path\n",
    "rgb, hsv, lab, denoised_image = preprocess_image(image_path)\n",
    "\n",
    "# Display results\n",
    "cv2.imshow(\"Original RGB Image\", rgb)\n",
    "cv2.imshow(\"HSV Image\", hsv)\n",
    "cv2.imshow(\"Lab Image\", lab)\n",
    "cv2.imshow(\"Denoised Image\", denoised_image)\n",
    "\n",
    "cv2.waitKey(0)\n",
    "cv2.destroyAllWindows()"
   ]
  },
  {
   "cell_type": "code",
   "execution_count": null,
   "id": "fd3c849b-7ee2-4724-9d26-c094ff5023b1",
   "metadata": {},
   "outputs": [],
   "source": []
  },
  {
   "cell_type": "code",
   "execution_count": null,
   "id": "811fbd4b-f2b3-4a39-9304-483b2f71a42b",
   "metadata": {},
   "outputs": [],
   "source": []
  },
  {
   "cell_type": "code",
   "execution_count": null,
   "id": "d3dacf7d-a9d8-4aab-8897-13831af60c6d",
   "metadata": {},
   "outputs": [],
   "source": []
  },
  {
   "cell_type": "markdown",
   "id": "5a953df2-400a-4746-9e9b-375c723bfe90",
   "metadata": {},
   "source": [
    "## 2. Superpixel-based Segmentation"
   ]
  },
  {
   "cell_type": "code",
   "execution_count": null,
   "id": "c430b4d5-7c78-4c56-a423-b6db7864e924",
   "metadata": {},
   "outputs": [],
   "source": []
  },
  {
   "cell_type": "code",
   "execution_count": null,
   "id": "1d864459-7a37-4ac5-ac64-b2df62904a35",
   "metadata": {},
   "outputs": [],
   "source": []
  },
  {
   "cell_type": "markdown",
   "id": "19b7efc4-e127-4b4d-8ccd-58b183ee5338",
   "metadata": {},
   "source": [
    "## 3. Binary Mask Creation and Refinement"
   ]
  },
  {
   "cell_type": "code",
   "execution_count": null,
   "id": "d8bf0242-016e-4282-a1cb-edd7fcfa8714",
   "metadata": {},
   "outputs": [],
   "source": []
  },
  {
   "cell_type": "code",
   "execution_count": null,
   "id": "d38d2190-4b10-4a55-b5a5-2bbac6919a1a",
   "metadata": {},
   "outputs": [],
   "source": []
  },
  {
   "cell_type": "code",
   "execution_count": null,
   "id": "d1e7fe7e-0913-449e-983c-978819d89243",
   "metadata": {},
   "outputs": [],
   "source": []
  },
  {
   "cell_type": "code",
   "execution_count": null,
   "id": "ece4c2e4-0698-452a-b015-52156e3b83bf",
   "metadata": {},
   "outputs": [],
   "source": []
  },
  {
   "cell_type": "markdown",
   "id": "a31c189c-b748-4573-ac62-810b0abb0044",
   "metadata": {},
   "source": [
    "## 4. Morphological Operations for Segmentation Refinement"
   ]
  },
  {
   "cell_type": "code",
   "execution_count": null,
   "id": "fe913a49-e05b-4982-b234-35cac4e16757",
   "metadata": {},
   "outputs": [],
   "source": []
  },
  {
   "cell_type": "code",
   "execution_count": null,
   "id": "b49bc8f9-c189-4bb3-bb47-fb1ca249d940",
   "metadata": {},
   "outputs": [],
   "source": []
  },
  {
   "cell_type": "code",
   "execution_count": null,
   "id": "f5fe25c1-dc47-4b59-9f66-8fff077004a2",
   "metadata": {},
   "outputs": [],
   "source": []
  },
  {
   "cell_type": "markdown",
   "id": "58e1b974-58ca-49fd-9135-cbe05a0f8ade",
   "metadata": {},
   "source": [
    "## 5. Background Replacement"
   ]
  },
  {
   "cell_type": "code",
   "execution_count": null,
   "id": "7abc18e9-1f17-41d1-b529-dbb9332a9e90",
   "metadata": {},
   "outputs": [],
   "source": []
  },
  {
   "cell_type": "code",
   "execution_count": null,
   "id": "d797d8d2-f891-46b9-9473-6964accc8855",
   "metadata": {},
   "outputs": [],
   "source": []
  },
  {
   "cell_type": "code",
   "execution_count": null,
   "id": "54c74a75-b6cb-42c3-883e-41f13d782044",
   "metadata": {},
   "outputs": [],
   "source": []
  },
  {
   "cell_type": "code",
   "execution_count": null,
   "id": "ffbb60ea-4d3d-4cb9-803c-44eb27766c03",
   "metadata": {},
   "outputs": [],
   "source": []
  },
  {
   "cell_type": "code",
   "execution_count": null,
   "id": "c4f06351-cb4c-4fe1-828d-28ed876cde61",
   "metadata": {},
   "outputs": [],
   "source": []
  },
  {
   "cell_type": "code",
   "execution_count": null,
   "id": "7d7e57a0-3f88-44d9-9467-ebfc15ff02e8",
   "metadata": {},
   "outputs": [],
   "source": []
  }
 ],
 "metadata": {
  "kernelspec": {
   "display_name": "Python 3 (ipykernel)",
   "language": "python",
   "name": "python3"
  },
  "language_info": {
   "codemirror_mode": {
    "name": "ipython",
    "version": 3
   },
   "file_extension": ".py",
   "mimetype": "text/x-python",
   "name": "python",
   "nbconvert_exporter": "python",
   "pygments_lexer": "ipython3",
   "version": "3.12.4"
  }
 },
 "nbformat": 4,
 "nbformat_minor": 5
}
